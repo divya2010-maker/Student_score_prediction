{
 "cells": [
  {
   "cell_type": "markdown",
   "id": "7c5e0aac-e108-4056-8f00-73c7126f159a",
   "metadata": {},
   "source": [
    "### Importing libraries"
   ]
  },
  {
   "cell_type": "code",
   "execution_count": 31,
   "id": "7e705473-5e3f-48ba-997a-d75cc2b375e8",
   "metadata": {},
   "outputs": [],
   "source": [
    "import pandas as pd \n",
    "import matplotlib.pyplot as plt \n",
    "import seaborn as sns\n",
    "from sklearn.model_selection import train_test_split\n",
    "from sklearn.linear_model import LinearRegression\n",
    "from sklearn.metrics import r2_score, mean_absolute_error\n"
   ]
  },
  {
   "cell_type": "markdown",
   "id": "a002f127-f339-4f24-a65d-7c7af7d3ae12",
   "metadata": {},
   "source": [
    "### Loading the dataset"
   ]
  },
  {
   "cell_type": "code",
   "execution_count": 4,
   "id": "dca19113-c72e-4877-9e87-b985e20055ed",
   "metadata": {},
   "outputs": [
    {
     "data": {
      "text/html": [
       "<div>\n",
       "<style scoped>\n",
       "    .dataframe tbody tr th:only-of-type {\n",
       "        vertical-align: middle;\n",
       "    }\n",
       "\n",
       "    .dataframe tbody tr th {\n",
       "        vertical-align: top;\n",
       "    }\n",
       "\n",
       "    .dataframe thead th {\n",
       "        text-align: right;\n",
       "    }\n",
       "</style>\n",
       "<table border=\"1\" class=\"dataframe\">\n",
       "  <thead>\n",
       "    <tr style=\"text-align: right;\">\n",
       "      <th></th>\n",
       "      <th>Hours_Studied</th>\n",
       "      <th>Attendance</th>\n",
       "      <th>Final_Score</th>\n",
       "    </tr>\n",
       "  </thead>\n",
       "  <tbody>\n",
       "    <tr>\n",
       "      <th>0</th>\n",
       "      <td>7</td>\n",
       "      <td>61</td>\n",
       "      <td>81.5</td>\n",
       "    </tr>\n",
       "    <tr>\n",
       "      <th>1</th>\n",
       "      <td>4</td>\n",
       "      <td>88</td>\n",
       "      <td>75.0</td>\n",
       "    </tr>\n",
       "    <tr>\n",
       "      <th>2</th>\n",
       "      <td>8</td>\n",
       "      <td>51</td>\n",
       "      <td>89.5</td>\n",
       "    </tr>\n",
       "    <tr>\n",
       "      <th>3</th>\n",
       "      <td>5</td>\n",
       "      <td>52</td>\n",
       "      <td>63.0</td>\n",
       "    </tr>\n",
       "    <tr>\n",
       "      <th>4</th>\n",
       "      <td>7</td>\n",
       "      <td>98</td>\n",
       "      <td>100.0</td>\n",
       "    </tr>\n",
       "  </tbody>\n",
       "</table>\n",
       "</div>"
      ],
      "text/plain": [
       "   Hours_Studied  Attendance  Final_Score\n",
       "0              7          61         81.5\n",
       "1              4          88         75.0\n",
       "2              8          51         89.5\n",
       "3              5          52         63.0\n",
       "4              7          98        100.0"
      ]
     },
     "execution_count": 4,
     "metadata": {},
     "output_type": "execute_result"
    }
   ],
   "source": [
    "data=pd.read_csv(\"student_scores.csv\")\n",
    "data.head()"
   ]
  },
  {
   "cell_type": "markdown",
   "id": "c314c84e-f444-4c01-af18-8c6e13b79b1b",
   "metadata": {},
   "source": [
    "### Chek data for missing values \n"
   ]
  },
  {
   "cell_type": "code",
   "execution_count": 5,
   "id": "4b70df71-676a-446d-a395-47dd5e42620f",
   "metadata": {},
   "outputs": [
    {
     "data": {
      "text/plain": [
       "Hours_Studied    0\n",
       "Attendance       0\n",
       "Final_Score      0\n",
       "dtype: int64"
      ]
     },
     "execution_count": 5,
     "metadata": {},
     "output_type": "execute_result"
    }
   ],
   "source": [
    "data.isnull().sum()"
   ]
  },
  {
   "cell_type": "markdown",
   "id": "82a84118-11d8-4e7c-9e91-e47d043bd887",
   "metadata": {},
   "source": [
    "### Summary statistics"
   ]
  },
  {
   "cell_type": "code",
   "execution_count": 6,
   "id": "ba8907af-a427-4224-b217-d10bc16dc751",
   "metadata": {},
   "outputs": [
    {
     "data": {
      "text/html": [
       "<div>\n",
       "<style scoped>\n",
       "    .dataframe tbody tr th:only-of-type {\n",
       "        vertical-align: middle;\n",
       "    }\n",
       "\n",
       "    .dataframe tbody tr th {\n",
       "        vertical-align: top;\n",
       "    }\n",
       "\n",
       "    .dataframe thead th {\n",
       "        text-align: right;\n",
       "    }\n",
       "</style>\n",
       "<table border=\"1\" class=\"dataframe\">\n",
       "  <thead>\n",
       "    <tr style=\"text-align: right;\">\n",
       "      <th></th>\n",
       "      <th>Hours_Studied</th>\n",
       "      <th>Attendance</th>\n",
       "      <th>Final_Score</th>\n",
       "    </tr>\n",
       "  </thead>\n",
       "  <tbody>\n",
       "    <tr>\n",
       "      <th>count</th>\n",
       "      <td>150.000000</td>\n",
       "      <td>150.000000</td>\n",
       "      <td>150.000000</td>\n",
       "    </tr>\n",
       "    <tr>\n",
       "      <th>mean</th>\n",
       "      <td>5.300000</td>\n",
       "      <td>74.566667</td>\n",
       "      <td>77.740000</td>\n",
       "    </tr>\n",
       "    <tr>\n",
       "      <th>std</th>\n",
       "      <td>2.633675</td>\n",
       "      <td>14.862419</td>\n",
       "      <td>19.658726</td>\n",
       "    </tr>\n",
       "    <tr>\n",
       "      <th>min</th>\n",
       "      <td>1.000000</td>\n",
       "      <td>50.000000</td>\n",
       "      <td>35.000000</td>\n",
       "    </tr>\n",
       "    <tr>\n",
       "      <th>25%</th>\n",
       "      <td>3.000000</td>\n",
       "      <td>61.500000</td>\n",
       "      <td>61.125000</td>\n",
       "    </tr>\n",
       "    <tr>\n",
       "      <th>50%</th>\n",
       "      <td>5.000000</td>\n",
       "      <td>75.000000</td>\n",
       "      <td>83.750000</td>\n",
       "    </tr>\n",
       "    <tr>\n",
       "      <th>75%</th>\n",
       "      <td>8.000000</td>\n",
       "      <td>85.750000</td>\n",
       "      <td>95.875000</td>\n",
       "    </tr>\n",
       "    <tr>\n",
       "      <th>max</th>\n",
       "      <td>9.000000</td>\n",
       "      <td>100.000000</td>\n",
       "      <td>100.000000</td>\n",
       "    </tr>\n",
       "  </tbody>\n",
       "</table>\n",
       "</div>"
      ],
      "text/plain": [
       "       Hours_Studied  Attendance  Final_Score\n",
       "count     150.000000  150.000000   150.000000\n",
       "mean        5.300000   74.566667    77.740000\n",
       "std         2.633675   14.862419    19.658726\n",
       "min         1.000000   50.000000    35.000000\n",
       "25%         3.000000   61.500000    61.125000\n",
       "50%         5.000000   75.000000    83.750000\n",
       "75%         8.000000   85.750000    95.875000\n",
       "max         9.000000  100.000000   100.000000"
      ]
     },
     "execution_count": 6,
     "metadata": {},
     "output_type": "execute_result"
    }
   ],
   "source": [
    "data.describe()"
   ]
  },
  {
   "cell_type": "markdown",
   "id": "b9060beb-fe43-43c0-be67-bd4d3280f41e",
   "metadata": {},
   "source": [
    "### Plotting  scatter plot to visualize the relationship between 'Hours','Scores' and 'Attendance'"
   ]
  },
  {
   "cell_type": "code",
   "execution_count": 11,
   "id": "c4c2f5b9-258a-415d-94eb-c28db7c4738b",
   "metadata": {},
   "outputs": [
    {
     "data": {
      "image/png": "[encoded data removed]",
      "text/plain": [
       "<Figure size 600x400 with 1 Axes>"
      ]
     },
     "metadata": {},
     "output_type": "display_data"
    }
   ],
   "source": [
    "plt.figure(figsize=(6,4)) \n",
    "sns.scatterplot(x='Hours_Studied',y='Final_Score',data=data)\n",
    "plt.title(\"Hours studied VS Final Score\")\n",
    "plt.show()"
   ]
  },
  {
   "cell_type": "code",
   "execution_count": 12,
   "id": "9fb25ee8-55fc-44b9-8bf7-4242947f38ef",
   "metadata": {},
   "outputs": [
    {
     "data": {
      "image/png": "[encoded data removed]",
      "text/plain": [
       "<Figure size 600x400 with 1 Axes>"
      ]
     },
     "metadata": {},
     "output_type": "display_data"
    }
   ],
   "source": [
    "# Attendance VS Final Score \n",
    "plt.figure(figsize=(6,4)) \n",
    "sns.scatterplot(x='Attendance',y='Final_Score',data=data)\n",
    "plt.title(\"Attendance VS Final Score\")\n",
    "plt.show()\n"
   ]
  },
  {
   "cell_type": "code",
   "execution_count": 13,
   "id": "01db840b-3ada-4886-8ade-36586ab35f2f",
   "metadata": {},
   "outputs": [
    {
     "name": "stdout",
     "output_type": "stream",
     "text": [
      "Correlation between Hours and Scores: 0.9360641911873165\n"
     ]
    }
   ],
   "source": [
    "# Check correlation between variables \n",
    "correlation=data['Hours_Studied'].corr(data['Final_Score'])\n",
    "print(f\"Correlation between Hours and Scores: {correlation}\")"
   ]
  },
  {
   "cell_type": "code",
   "execution_count": 14,
   "id": "eb808b6f-624c-4005-8053-1157b0deef4d",
   "metadata": {},
   "outputs": [
    {
     "name": "stdout",
     "output_type": "stream",
     "text": [
      "Correlation between Hours and Scores: 0.25786818886529045\n"
     ]
    }
   ],
   "source": [
    "# Cheking correlation between 'Attendance' and 'Final_Score'\n",
    "correlation2=data[\"Attendance\"].corr(data['Final_Score'])\n",
    "print(f\"Correlation between Hours and Scores: {correlation2}\")"
   ]
  },
  {
   "cell_type": "markdown",
   "id": "946184e7-42b1-40c2-8c7c-b8ba5b59244d",
   "metadata": {},
   "source": [
    "**Since correlation between Attendance and Final Score is very low (~0.26) , I am going to do both simple regression(Hours_Studied → Final_Score) and multiple regression(Hours_Studied + Attendance → Final_Score)**"
   ]
  },
  {
   "cell_type": "markdown",
   "id": "9a14467a-43d4-47ac-af4c-36bb012f0312",
   "metadata": {},
   "source": [
    "### Simple Linear Regression (Hours_Studied -> Final_Score)\n"
   ]
  },
  {
   "cell_type": "code",
   "execution_count": 27,
   "id": "056c6421-bb53-4de3-b62d-c55fcd8e92db",
   "metadata": {},
   "outputs": [],
   "source": [
    "X_simple = data[[\"Hours_Studied\"]]\n",
    "y = data[\"Final_Score\"]\n"
   ]
  },
  {
   "cell_type": "code",
   "execution_count": 28,
   "id": "d19f367e-c48e-452b-bd17-98bf4ca41642",
   "metadata": {},
   "outputs": [],
   "source": [
    "# Train-test split \n",
    "X_train, X_test, y_train, y_test = train_test_split(X_simple, y, test_size=0.2, random_state=42)\n"
   ]
  },
  {
   "cell_type": "code",
   "execution_count": 37,
   "id": "36027767-4afd-42f2-9ded-72f259d23709",
   "metadata": {},
   "outputs": [
    {
     "name": "stdin",
     "output_type": "stream",
     "text": [
      "\n",
      "⏳ Enter Study Hours:  4\n"
     ]
    },
    {
     "name": "stdout",
     "output_type": "stream",
     "text": [
      " Predicted Score if a student studies 4.0 hours/day =97.03%\n"
     ]
    }
   ],
   "source": [
    "# Training the model\n",
    "model_simple = LinearRegression()\n",
    "hour = float(input(\"\\n⏳ Enter Study Hours: \"))\n",
    "model_simple.fit(X_train, y_train)\n",
    "y_pred_simple = model_simple.predict(X_test)\n",
    "print(f\" Predicted Score if a student studies {hour} hours/day ={y_pred_simple[0]:.2f}%\")\n"
   ]
  },
  {
   "cell_type": "code",
   "execution_count": 40,
   "id": "06486527-22eb-4a0d-8e78-5ed3a7afc1ca",
   "metadata": {},
   "outputs": [
    {
     "name": "stdout",
     "output_type": "stream",
     "text": [
      "🔹 Simple Regression (Hours_Studied only)\n",
      "R² Score: 0.8603420512732348\n",
      "MAE: 5.4483598015922645\n",
      "R2 Score: 0.86\n"
     ]
    }
   ],
   "source": [
    "print(\"🔹 Simple Regression (Hours_Studied only)\")\n",
    "print(\"R² Score:\", r2_score(y_test, y_pred_simple))\n",
    "print(\"MAE:\", mean_absolute_error(y_test, y_pred_simple))\n",
    "print(f\"R2 Score: {r2_score(y_test, y_pred_simple):.2f}\")\n"
   ]
  },
  {
   "cell_type": "markdown",
   "id": "787b8675-5702-4c51-9e96-c8942e612660",
   "metadata": {},
   "source": [
    "### MULTIPLE LINEAR REGRESSION (Hours_Studied + Attendance → Final_Score)"
   ]
  },
  {
   "cell_type": "code",
   "execution_count": 41,
   "id": "29f583ba-88ec-49e6-a0e6-9a19a1e17ec8",
   "metadata": {},
   "outputs": [],
   "source": [
    "X_multi = data[[\"Hours_Studied\", \"Attendance\"]]\n",
    "y = data[\"Final_Score\"]\n"
   ]
  },
  {
   "cell_type": "code",
   "execution_count": 42,
   "id": "f0e11b93-dfea-4e2f-aef2-c41b44baaabf",
   "metadata": {},
   "outputs": [],
   "source": [
    "#Train-test split \n",
    "X_train, X_test, y_train, y_test = train_test_split(X_multi, y, test_size=0.2, random_state=42)\n",
    "\n"
   ]
  },
  {
   "cell_type": "code",
   "execution_count": 43,
   "id": "80dece2f-7d0d-4326-8280-d0cf2c469e6e",
   "metadata": {},
   "outputs": [],
   "source": [
    "# Training the model \n",
    "multi_model = LinearRegression()\n",
    "multi_model.fit(X_train, y_train)\n",
    "\n",
    "y_pred_multi = multi_model.predict(X_test)\n",
    "\n"
   ]
  },
  {
   "cell_type": "code",
   "execution_count": 45,
   "id": "69947b6c-d5fb-4b2d-bd34-3c44615ab820",
   "metadata": {},
   "outputs": [
    {
     "name": "stdout",
     "output_type": "stream",
     "text": [
      "R2 Score: 0.94\n",
      "Mean Absolute  Error: 3.22\n"
     ]
    }
   ],
   "source": [
    "#R2 Score and MAE \n",
    "print(f\"R2 Score: {r2_score(y_test, y_pred_multi):.2f}\")\n",
    "print(f\"Mean Absolute  Error: {mean_absolute_error(y_test, y_pred_multi):.2f}\")\n"
   ]
  },
  {
   "cell_type": "code",
   "execution_count": 46,
   "id": "893a64e3-e33e-4016-89f7-b37956381276",
   "metadata": {},
   "outputs": [
    {
     "name": "stdin",
     "output_type": "stream",
     "text": [
      "\n",
      "⏳ Enter Study Hours:  4\n",
      "📅 Enter Attendance (%):  80\n"
     ]
    },
    {
     "name": "stdout",
     "output_type": "stream",
     "text": [
      "👉 Predicted Score for 4.0 study hours & 80.0% attendance = 70.80%\n"
     ]
    },
    {
     "name": "stderr",
     "output_type": "stream",
     "text": [
      "C:\\Users\\Aaditya Narayan\\AppData\\Local\\Programs\\Python\\Python311\\Lib\\site-packages\\sklearn\\utils\\validation.py:2749: UserWarning: X does not have valid feature names, but LinearRegression was fitted with feature names\n",
      "  warnings.warn(\n"
     ]
    }
   ],
   "source": [
    "# Result \n",
    "hour = float(input(\"\\n⏳ Enter Study Hours: \"))\n",
    "attendance = float(input(\"📅 Enter Attendance (%): \"))\n",
    "\n",
    "pred_multi = multi_model.predict([[hour, attendance]])\n",
    "print(f\"👉 Predicted Score for {hour} study hours & {attendance}% attendance = {pred_multi[0]:.2f}%\")"
   ]
  },
  {
   "cell_type": "code",
   "execution_count": null,
   "id": "ec20b573-300a-43e3-a904-8dddcbfd3566",
   "metadata": {},
   "outputs": [],
   "source": []
  }
 ],
 "metadata": {
  "kernelspec": {
   "display_name": "Python 3 (ipykernel)",
   "language": "python",
   "name": "python3"
  },
  "language_info": {
   "codemirror_mode": {
    "name": "ipython",
    "version": 3
   },
   "file_extension": ".py",
   "mimetype": "text/x-python",
   "name": "python",
   "nbconvert_exporter": "python",
   "pygments_lexer": "ipython3",
   "version": "3.11.4"
  }
 },
 "nbformat": 4,
 "nbformat_minor": 5
}
